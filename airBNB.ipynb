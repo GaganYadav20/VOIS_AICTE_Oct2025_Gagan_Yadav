{
 "cells": [
  {
   "cell_type": "code",
   "execution_count": 3,
   "id": "5d580cee",
   "metadata": {},
   "outputs": [
    {
     "name": "stdout",
     "output_type": "stream",
     "text": [
      "Requirement already satisfied: numpy in d:\\internships\\air_bnb\\env\\lib\\site-packages (2.3.3)\n",
      "Requirement already satisfied: pandas in d:\\internships\\air_bnb\\env\\lib\\site-packages (2.3.3)\n",
      "Requirement already satisfied: matplotlib in d:\\internships\\air_bnb\\env\\lib\\site-packages (3.10.6)\n",
      "Requirement already satisfied: seaborn in d:\\internships\\air_bnb\\env\\lib\\site-packages (0.13.2)\n",
      "Collecting plotly\n",
      "  Downloading plotly-6.3.1-py3-none-any.whl.metadata (8.5 kB)\n",
      "Requirement already satisfied: python-dateutil>=2.8.2 in d:\\internships\\air_bnb\\env\\lib\\site-packages (from pandas) (2.9.0.post0)\n",
      "Requirement already satisfied: pytz>=2020.1 in d:\\internships\\air_bnb\\env\\lib\\site-packages (from pandas) (2025.2)\n",
      "Requirement already satisfied: tzdata>=2022.7 in d:\\internships\\air_bnb\\env\\lib\\site-packages (from pandas) (2025.2)\n",
      "Requirement already satisfied: contourpy>=1.0.1 in d:\\internships\\air_bnb\\env\\lib\\site-packages (from matplotlib) (1.3.3)\n",
      "Requirement already satisfied: cycler>=0.10 in d:\\internships\\air_bnb\\env\\lib\\site-packages (from matplotlib) (0.12.1)\n",
      "Requirement already satisfied: fonttools>=4.22.0 in d:\\internships\\air_bnb\\env\\lib\\site-packages (from matplotlib) (4.60.1)\n",
      "Requirement already satisfied: kiwisolver>=1.3.1 in d:\\internships\\air_bnb\\env\\lib\\site-packages (from matplotlib) (1.4.9)\n",
      "Requirement already satisfied: packaging>=20.0 in d:\\internships\\air_bnb\\env\\lib\\site-packages (from matplotlib) (25.0)\n",
      "Requirement already satisfied: pillow>=8 in d:\\internships\\air_bnb\\env\\lib\\site-packages (from matplotlib) (11.3.0)\n",
      "Requirement already satisfied: pyparsing>=2.3.1 in d:\\internships\\air_bnb\\env\\lib\\site-packages (from matplotlib) (3.2.5)\n",
      "Collecting narwhals>=1.15.1 (from plotly)\n",
      "  Using cached narwhals-2.6.0-py3-none-any.whl.metadata (11 kB)\n",
      "Requirement already satisfied: six>=1.5 in d:\\internships\\air_bnb\\env\\lib\\site-packages (from python-dateutil>=2.8.2->pandas) (1.17.0)\n",
      "Downloading plotly-6.3.1-py3-none-any.whl (9.8 MB)\n",
      "   ---------------------------------------- 0.0/9.8 MB ? eta -:--:--\n",
      "   ---------------------------------------- 0.0/9.8 MB ? eta -:--:--\n",
      "   ---------------------------------------- 0.0/9.8 MB 653.6 kB/s eta 0:00:15\n",
      "   ---------------------------------------- 0.1/9.8 MB 762.6 kB/s eta 0:00:13\n",
      "    --------------------------------------- 0.2/9.8 MB 1.5 MB/s eta 0:00:07\n",
      "   - -------------------------------------- 0.4/9.8 MB 2.3 MB/s eta 0:00:05\n",
      "   -- ------------------------------------- 0.6/9.8 MB 2.6 MB/s eta 0:00:04\n",
      "   --- ------------------------------------ 0.9/9.8 MB 3.0 MB/s eta 0:00:03\n",
      "   ---- ----------------------------------- 1.0/9.8 MB 3.1 MB/s eta 0:00:03\n",
      "   ---- ----------------------------------- 1.2/9.8 MB 3.2 MB/s eta 0:00:03\n",
      "   ----- ---------------------------------- 1.4/9.8 MB 3.3 MB/s eta 0:00:03\n",
      "   ----- ---------------------------------- 1.4/9.8 MB 3.1 MB/s eta 0:00:03\n",
      "   ------ --------------------------------- 1.6/9.8 MB 3.0 MB/s eta 0:00:03\n",
      "   ------- -------------------------------- 1.9/9.8 MB 3.4 MB/s eta 0:00:03\n",
      "   -------- ------------------------------- 2.2/9.8 MB 3.5 MB/s eta 0:00:03\n",
      "   --------- ------------------------------ 2.4/9.8 MB 3.8 MB/s eta 0:00:02\n",
      "   ----------- ---------------------------- 2.8/9.8 MB 4.0 MB/s eta 0:00:02\n",
      "   ------------ --------------------------- 3.1/9.8 MB 4.2 MB/s eta 0:00:02\n",
      "   ------------- -------------------------- 3.4/9.8 MB 4.3 MB/s eta 0:00:02\n",
      "   -------------- ------------------------- 3.6/9.8 MB 4.3 MB/s eta 0:00:02\n",
      "   --------------- ------------------------ 3.7/9.8 MB 4.2 MB/s eta 0:00:02\n",
      "   --------------- ------------------------ 3.8/9.8 MB 4.2 MB/s eta 0:00:02\n",
      "   --------------- ------------------------ 3.9/9.8 MB 4.1 MB/s eta 0:00:02\n",
      "   --------------- ------------------------ 3.9/9.8 MB 3.8 MB/s eta 0:00:02\n",
      "   ---------------- ----------------------- 4.1/9.8 MB 3.9 MB/s eta 0:00:02\n",
      "   ----------------- ---------------------- 4.2/9.8 MB 3.8 MB/s eta 0:00:02\n",
      "   ----------------- ---------------------- 4.4/9.8 MB 3.8 MB/s eta 0:00:02\n",
      "   ------------------ --------------------- 4.5/9.8 MB 3.7 MB/s eta 0:00:02\n",
      "   ------------------ --------------------- 4.6/9.8 MB 3.7 MB/s eta 0:00:02\n",
      "   ------------------- -------------------- 4.8/9.8 MB 3.7 MB/s eta 0:00:02\n",
      "   ------------------- -------------------- 4.9/9.8 MB 3.7 MB/s eta 0:00:02\n",
      "   -------------------- ------------------- 5.0/9.8 MB 3.7 MB/s eta 0:00:02\n",
      "   --------------------- ------------------ 5.2/9.8 MB 3.7 MB/s eta 0:00:02\n",
      "   --------------------- ------------------ 5.4/9.8 MB 3.7 MB/s eta 0:00:02\n",
      "   ---------------------- ----------------- 5.6/9.8 MB 3.8 MB/s eta 0:00:02\n",
      "   ------------------------ --------------- 6.0/9.8 MB 3.8 MB/s eta 0:00:02\n",
      "   ------------------------- -------------- 6.2/9.8 MB 3.9 MB/s eta 0:00:01\n",
      "   -------------------------- ------------- 6.4/9.8 MB 3.9 MB/s eta 0:00:01\n",
      "   --------------------------- ------------ 6.7/9.8 MB 3.9 MB/s eta 0:00:01\n",
      "   --------------------------- ------------ 6.8/9.8 MB 3.9 MB/s eta 0:00:01\n",
      "   ----------------------------- ---------- 7.1/9.8 MB 4.0 MB/s eta 0:00:01\n",
      "   ----------------------------- ---------- 7.4/9.8 MB 4.0 MB/s eta 0:00:01\n",
      "   ------------------------------ --------- 7.6/9.8 MB 4.0 MB/s eta 0:00:01\n",
      "   -------------------------------- ------- 7.9/9.8 MB 4.1 MB/s eta 0:00:01\n",
      "   --------------------------------- ------ 8.2/9.8 MB 4.1 MB/s eta 0:00:01\n",
      "   ---------------------------------- ----- 8.4/9.8 MB 4.2 MB/s eta 0:00:01\n",
      "   ----------------------------------- ---- 8.8/9.8 MB 4.2 MB/s eta 0:00:01\n",
      "   ------------------------------------- -- 9.1/9.8 MB 4.3 MB/s eta 0:00:01\n",
      "   ------------------------------------- -- 9.3/9.8 MB 4.3 MB/s eta 0:00:01\n",
      "   -------------------------------------- - 9.5/9.8 MB 4.3 MB/s eta 0:00:01\n",
      "   ---------------------------------------  9.8/9.8 MB 4.4 MB/s eta 0:00:01\n",
      "   ---------------------------------------  9.8/9.8 MB 4.4 MB/s eta 0:00:01\n",
      "   ---------------------------------------- 9.8/9.8 MB 4.2 MB/s eta 0:00:00\n",
      "Using cached narwhals-2.6.0-py3-none-any.whl (408 kB)\n",
      "Installing collected packages: narwhals, plotly\n",
      "Successfully installed narwhals-2.6.0 plotly-6.3.1\n",
      "Note: you may need to restart the kernel to use updated packages.\n"
     ]
    },
    {
     "name": "stderr",
     "output_type": "stream",
     "text": [
      "\n",
      "[notice] A new release of pip is available: 24.0 -> 25.2\n",
      "[notice] To update, run: python.exe -m pip install --upgrade pip\n"
     ]
    }
   ],
   "source": [
    "%pip install numpy pandas matplotlib seaborn plotly"
   ]
  },
  {
   "cell_type": "code",
   "execution_count": 4,
   "id": "b8d27acd",
   "metadata": {},
   "outputs": [],
   "source": [
    "import numpy as np\n",
    "import pandas as pd\n",
    "import matplotlib.pyplot as plt\n",
    "import seaborn as sns\n",
    "import plotly.express as px\n"
   ]
  },
  {
   "cell_type": "code",
   "execution_count": null,
   "id": "e94a87f8",
   "metadata": {},
   "outputs": [],
   "source": [
    "df=pd.read_csv('A')"
   ]
  }
 ],
 "metadata": {
  "kernelspec": {
   "display_name": "env",
   "language": "python",
   "name": "python3"
  },
  "language_info": {
   "codemirror_mode": {
    "name": "ipython",
    "version": 3
   },
   "file_extension": ".py",
   "mimetype": "text/x-python",
   "name": "python",
   "nbconvert_exporter": "python",
   "pygments_lexer": "ipython3",
   "version": "3.11.9"
  }
 },
 "nbformat": 4,
 "nbformat_minor": 5
}
